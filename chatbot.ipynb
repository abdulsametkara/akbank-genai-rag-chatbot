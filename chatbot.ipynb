{
  "nbformat": 4,
  "nbformat_minor": 0,
  "metadata": {
    "colab": {
      "provenance": [],
      "gpuType": "T4"
    },
    "kernelspec": {
      "name": "python3",
      "display_name": "Python 3"
    },
    "language_info": {
      "name": "python"
    },
    "accelerator": "GPU"
  },
  "cells": [
    {
      "cell_type": "code",
      "execution_count": 1,
      "metadata": {
        "colab": {
          "base_uri": "https://localhost:8080/"
        },
        "id": "vLxzIT7EkIk1",
        "outputId": "40518be3-9fdd-4c33-cd80-e3b200e4bebe"
      },
      "outputs": [
        {
          "output_type": "stream",
          "name": "stdout",
          "text": [
            ">>> Adım 1.1: Gerekli kütüphaneler tek seferde yükleniyor...\n",
            "\u001b[33m  WARNING: Retrying (Retry(total=4, connect=None, read=None, redirect=None, status=None)) after connection broken by 'ProtocolError('Connection aborted.', RemoteDisconnected('Remote end closed connection without response'))': /packages/ad/90/2660332eeb31303c13b653ea566a9918484b6e4d6b9d2d46879a33ab0622/pyarrow-21.0.0-cp312-cp312-manylinux_2_28_x86_64.whl.metadata\u001b[0m\u001b[33m\n",
            "\u001b[2K   \u001b[90m━━━━━━━━━━━━━━━━━━━━━━━━━━━━━━━━━━━━━━━━\u001b[0m \u001b[32m42.0/42.0 kB\u001b[0m \u001b[31m3.5 MB/s\u001b[0m eta \u001b[36m0:00:00\u001b[0m\n",
            "\u001b[2K   \u001b[90m━━━━━━━━━━━━━━━━━━━━━━━━━━━━━━━━━━━━━━━━\u001b[0m \u001b[32m506.3/506.3 kB\u001b[0m \u001b[31m37.9 MB/s\u001b[0m eta \u001b[36m0:00:00\u001b[0m\n",
            "\u001b[2K   \u001b[90m━━━━━━━━━━━━━━━━━━━━━━━━━━━━━━━━━━━━━━━━\u001b[0m \u001b[32m31.4/31.4 MB\u001b[0m \u001b[31m37.9 MB/s\u001b[0m eta \u001b[36m0:00:00\u001b[0m\n",
            "\u001b[2K   \u001b[90m━━━━━━━━━━━━━━━━━━━━━━━━━━━━━━━━━━━━━━━━\u001b[0m \u001b[32m2.5/2.5 MB\u001b[0m \u001b[31m79.9 MB/s\u001b[0m eta \u001b[36m0:00:00\u001b[0m\n",
            "\u001b[2K   \u001b[90m━━━━━━━━━━━━━━━━━━━━━━━━━━━━━━━━━━━━━━━━\u001b[0m \u001b[32m42.8/42.8 MB\u001b[0m \u001b[31m15.7 MB/s\u001b[0m eta \u001b[36m0:00:00\u001b[0m\n",
            "\u001b[2K   \u001b[90m━━━━━━━━━━━━━━━━━━━━━━━━━━━━━━━━━━━━━━━━\u001b[0m \u001b[32m64.7/64.7 kB\u001b[0m \u001b[31m5.4 MB/s\u001b[0m eta \u001b[36m0:00:00\u001b[0m\n",
            "\u001b[2K   \u001b[90m━━━━━━━━━━━━━━━━━━━━━━━━━━━━━━━━━━━━━━━━\u001b[0m \u001b[32m50.9/50.9 kB\u001b[0m \u001b[31m4.0 MB/s\u001b[0m eta \u001b[36m0:00:00\u001b[0m\n",
            "\u001b[?25h\u001b[31mERROR: pip's dependency resolver does not currently take into account all the packages that are installed. This behaviour is the source of the following dependency conflicts.\n",
            "google-colab 1.0.0 requires requests==2.32.4, but you have requests 2.32.5 which is incompatible.\n",
            "cudf-cu12 25.6.0 requires pyarrow<20.0.0a0,>=14.0.0; platform_machine == \"x86_64\", but you have pyarrow 21.0.0 which is incompatible.\n",
            "pylibcudf-cu12 25.6.0 requires pyarrow<20.0.0a0,>=14.0.0; platform_machine == \"x86_64\", but you have pyarrow 21.0.0 which is incompatible.\u001b[0m\u001b[31m\n",
            "\u001b[0m\n",
            "✅ Kütüphane kurulumları tamamlandı!\n",
            "Not: Kurulum sırasında hala bazı uyarılar görebilirsin, bu Colab ortamında normaldir.\n",
            "Bir sonraki API anahtarı yükleme adımına geçebilirsin.\n"
          ]
        }
      ],
      "source": [
        "# --- GÜNCELLENMİŞ KURULUM KODU ---\n",
        "# Tüm kütüphaneleri tek bir komutla kurarak pip'in bağımlılıkları daha iyi çözmesine yardımcı oluyoruz.\n",
        "# Bu yöntem, versiyon çakışmalarını en aza indirir.\n",
        "\n",
        "print(\">>> Adım 1.1: Gerekli kütüphaneler tek seferde yükleniyor...\")\n",
        "\n",
        "!pip install -qU \\\n",
        "    google-generativeai \\\n",
        "    langchain-google-genai \\\n",
        "    langchain \\\n",
        "    datasets \\\n",
        "    sentence-transformers \\\n",
        "    faiss-cpu \\\n",
        "    langchain_community\n",
        "\n",
        "print(\"\\n✅ Kütüphane kurulumları tamamlandı!\")\n",
        "print(\"Not: Kurulum sırasında hala bazı uyarılar görebilirsin, bu Colab ortamında normaldir.\")\n",
        "print(\"Bir sonraki API anahtarı yükleme adımına geçebilirsin.\")"
      ]
    },
    {
      "cell_type": "code",
      "source": [
        "# Bu hücre, Colab'ın güvenli 'Secrets' bölümünden API anahtarımızı alır ve\n",
        "# Google'ın kütüphanelerini bu anahtarla çalışacak şekilde yapılandırır.\n",
        "\n",
        "print(\">>> Adım 1.2: Google API anahtarı yükleniyor...\")\n",
        "\n",
        "import google.generativeai as genai\n",
        "from google.colab import userdata # Colab'ın 'Secrets' bölümüne erişmemizi sağlayan araç\n",
        "\n",
        "# 'try...except' bloğu, olası bir hatayı yakalamamızı sağlar.\n",
        "# Eğer anahtar doğru yüklenirse 'try' içindeki kod çalışır.\n",
        "# Bir sorun olursa 'except' içindeki hata mesajı gösterilir.\n",
        "try:\n",
        "    # 'userdata.get()' fonksiyonu ile 'GOOGLE_API_KEY' isimli gizli anahtarımızı çağırıyoruz.\n",
        "    GOOGLE_API_KEY = userdata.get('GOOGLE_API_KEY')\n",
        "\n",
        "    # 'genai.configure()' fonksiyonu ile Google kütüphanelerine anahtarımızı tanıtıyoruz.\n",
        "    genai.configure(api_key=GOOGLE_API_KEY)\n",
        "\n",
        "    print(\"✅ Google API anahtarı başarıyla yüklendi ve yapılandırıldı.\")\n",
        "    print(\"Artık projemizin bir sonraki adımına geçmeye hazırız!\")\n",
        "\n",
        "except Exception as e:\n",
        "    print(\"🚨 HATA: API anahtarı yüklenemedi!\")\n",
        "    print(\"Lütfen Colab'ın sol menüsündeki 'Secrets' (anahtar simgesi) bölümüne\")\n",
        "    print(\"API anahtarınızı 'GOOGLE_API_KEY' adıyla doğru bir şekilde eklediğinizden emin olun.\")"
      ],
      "metadata": {
        "colab": {
          "base_uri": "https://localhost:8080/"
        },
        "id": "1uf5-Nc_lOJU",
        "outputId": "58dbe965-1892-4b6c-9d57-55bdd91ae21a"
      },
      "execution_count": 2,
      "outputs": [
        {
          "output_type": "stream",
          "name": "stdout",
          "text": [
            ">>> Adım 1.2: Google API anahtarı yükleniyor...\n",
            "✅ Google API anahtarı başarıyla yüklendi ve yapılandırıldı.\n",
            "Artık projemizin bir sonraki adımına geçmeye hazırız!\n"
          ]
        }
      ]
    },
    {
      "cell_type": "code",
      "source": [
        "# --- Adım 2 (Genişletilmiş Alt Küme Versiyonu) ---\n",
        "\n",
        "print(\">>> Adım 2: Türkçe Wikipedia veri seti yükleniyor...\")\n",
        "\n",
        "from datasets import load_dataset\n",
        "\n",
        "try:\n",
        "    dataset = load_dataset(\"wikimedia/wikipedia\", \"20231101.tr\", split='train')\n",
        "    print(f\"\\n✅ Orijinal veri setinde toplam {len(dataset)} adet makale bulundu.\")\n",
        "\n",
        "    # --- DEĞİŞİKLİK BURADA ---\n",
        "    # Kısıtlamayı 1000'den 20,000 makaleye çıkarıyoruz.\n",
        "    subset_dataset = dataset.select(range(20000))\n",
        "\n",
        "    print(f\"\\n✅ Geliştirme için {len(subset_dataset)} makalelik bir alt küme oluşturuldu.\")\n",
        "    print(\"Artık bu alt küme ile çalışacağız.\")\n",
        "\n",
        "    print(\"\\n--- Örnek Veri ---\")\n",
        "    print(\"İlk makalenin başlığı:\", subset_dataset[0]['title'])\n",
        "\n",
        "except Exception as e:\n",
        "    print(f\"🚨 HATA: Veri seti yüklenirken bir sorun oluştu!\\n{e}\")"
      ],
      "metadata": {
        "colab": {
          "base_uri": "https://localhost:8080/"
        },
        "id": "RALIp_ybnqL3",
        "outputId": "f27774b2-68a0-4c92-80e3-b0ef534138e3"
      },
      "execution_count": 8,
      "outputs": [
        {
          "output_type": "stream",
          "name": "stdout",
          "text": [
            ">>> Adım 2: Türkçe Wikipedia veri seti yükleniyor...\n",
            "\n",
            "✅ Orijinal veri setinde toplam 534988 adet makale bulundu.\n",
            "\n",
            "✅ Geliştirme için 20000 makalelik bir alt küme oluşturuldu.\n",
            "Artık bu alt küme ile çalışacağız.\n",
            "\n",
            "--- Örnek Veri ---\n",
            "İlk makalenin başlığı: Cengiz Han\n"
          ]
        }
      ]
    },
    {
      "cell_type": "code",
      "source": [
        "# Bu hücre, bir önceki adımda yüklediğimiz 1000 makaleyi\n",
        "# daha küçük ve yönetilebilir metin parçalarına (\"chunk\") böler.\n",
        "\n",
        "print(\">>> Adım 3: Metinleri daha küçük parçalara ayırma işlemi başlıyor...\")\n",
        "\n",
        "# LangChain'in metin bölme aracını projemize dahil ediyoruz.\n",
        "from langchain.text_splitter import RecursiveCharacterTextSplitter\n",
        "\n",
        "try:\n",
        "    # Metinleri LangChain'in anlayacağı özel bir \"Document\" formatına dönüştürüyoruz.\n",
        "    # Her makalenin 'text' içeriğini alıp bir liste oluşturuyoruz.\n",
        "    docs_list = [article['text'] for article in subset_dataset]\n",
        "\n",
        "    # Metin bölücümüzü yapılandırıyoruz:\n",
        "    text_splitter = RecursiveCharacterTextSplitter(\n",
        "        chunk_size=1000,      # Her bir parçanın maksimum karakter sayısı.\n",
        "        chunk_overlap=150,    # Parçalar arası anlamsal bütünlüğü korumak için ortak karakter sayısı.\n",
        "        length_function=len,  # Karakter sayısını nasıl ölçeceğimizi belirtiyoruz (standart Python len fonksiyonu).\n",
        "        is_separator_regex=False,\n",
        "    )\n",
        "\n",
        "    # Bölücüyü kullanarak metin listemizi parçalara ayırıyoruz.\n",
        "    # Bu işlem sonucunda elimizde bir \"Document\" nesneleri listesi olacak.\n",
        "    chunks = text_splitter.create_documents(docs_list)\n",
        "\n",
        "    print(\"\\n✅ Metin parçalama işlemi başarıyla tamamlandı.\")\n",
        "    print(f\"Başlangıçta {len(docs_list)} adet tam makalemiz vardı.\")\n",
        "    print(f\"Parçalama sonrası toplam {len(chunks)} adet metin parçası (chunk) oluşturuldu.\")\n",
        "\n",
        "    # Oluşturduğumuz parçalardan birine göz atalım.\n",
        "    print(\"\\n--- Örnek Parça (Chunk) ---\")\n",
        "    # chunks listesindeki 10. parçanın içeriğini (page_content) yazdıralım.\n",
        "    print(chunks[10].page_content)\n",
        "    print(\"-----------------------------\")\n",
        "\n",
        "except Exception as e:\n",
        "    print(\"🚨 HATA: Metinler parçalanırken bir sorun oluştu!\")\n",
        "    print(e)"
      ],
      "metadata": {
        "colab": {
          "base_uri": "https://localhost:8080/"
        },
        "id": "BmFa0tjHoik4",
        "outputId": "962b77b8-ce16-4307-f5e5-86dfa6914766"
      },
      "execution_count": 9,
      "outputs": [
        {
          "output_type": "stream",
          "name": "stdout",
          "text": [
            ">>> Adım 3: Metinleri daha küçük parçalara ayırma işlemi başlıyor...\n",
            "\n",
            "✅ Metin parçalama işlemi başarıyla tamamlandı.\n",
            "Başlangıçta 20000 adet tam makalemiz vardı.\n",
            "Parçalama sonrası toplam 144739 adet metin parçası (chunk) oluşturuldu.\n",
            "\n",
            "--- Örnek Parça (Chunk) ---\n",
            "Kabul Han ve onun halefi Ambakay Han zamanında Moğollar, Çin'deki Jin İmparatorluğu ile mücadele edecek kadar kuvvetlenseler de Tatarlar, Çinlileri hoşnut etmek için Ambakay’ı Çin’e teslim ettiler. Ambakay hiç alışılmadık bir şekilde, “tahta eşek şekli” denen bir duruma sokularak çarmıha gerilip infaz edildi. Cengiz Han’ın büyük amcası Kutua, bu hakarete Çin üzerine ve Tatarlara bir dizi saldırı düzenleyerek cevap verdi ve bu akınlar sonunda “Moğol Herkülü” unvanını kazandı. Fakat, 1160 yılında, detayları bilinmeyen bir dizi olay sonunda, Kuzey Çin’in hakimi Jin Hanedanı, Moğolları hezimete uğrattı. Moğollar bir süre karmaşa içinde dağıldılar. Sefalet içinde yüzen bu karmaşık hâldeki Moğollar’ın içerisindeki önemsiz liderlerden biri olan Kabul Han'ın torunu Yesügey Bahadır, ittifaklar kurarak Moğolları güçlendirmeye çalıştı. Moğolların batı komşularından biri olan Türk boylarından Keraitler idi. Keraitler 200 yıldan beri Nasturi Hristiyan’dı. Hristiyan Keraitlerin o zamanki lideri\n",
            "-----------------------------\n"
          ]
        }
      ]
    },
    {
      "cell_type": "code",
      "source": [
        "# Bu hücre, 10,685 adet metin parçasının TAMAMINI anlamsal vektörlere dönüştürür ve\n",
        "# bu vektörleri hızlı arama için bir veritabanına kaydeder.\n",
        "\n",
        "print(\">>> Adım 4 (Tam Sürüm): Vektör veritabanı oluşturuluyor...\")\n",
        "print(f\"⚠️ UYARI: Toplam {len(chunks)} adet metin parçası işlenecek. Bu işlem çok uzun sürebilir!\")\n",
        "\n",
        "# Gerekli araçları LangChain'den çağırıyoruz.\n",
        "from langchain_community.embeddings import HuggingFaceEmbeddings\n",
        "from langchain_community.vectorstores import FAISS\n",
        "\n",
        "try:\n",
        "    # \"Anlam Tercümanımızı\" (Embedding Model) yüklüyoruz.\n",
        "    # Model daha önce indirildiği için bu adım hızlı olacaktır.\n",
        "    model_name = \"sentence-transformers/paraphrase-multilingual-mpnet-base-v2\"\n",
        "    embeddings_model = HuggingFaceEmbeddings(model_name=model_name)\n",
        "    print(\"\\n✅ Embedding modeli başarıyla yüklendi.\")\n",
        "\n",
        "\n",
        "    # --- ANA DEĞİŞİKLİK BURADA ---\n",
        "    # Artık verinin küçük bir kısmını değil, 'chunks' listesinin tamamını kullanıyoruz.\n",
        "    print(\"Metin parçaları vektörlere dönüştürülüyor ve veritabanına ekleniyor...\")\n",
        "    vector_store = FAISS.from_documents(chunks, embeddings_model) # 'small_chunks' yerine 'chunks' kullanılıyor.\n",
        "\n",
        "    print(\"\\n✅ Vektör veritabanı başarıyla oluşturuldu!\")\n",
        "    print(f\"Veritabanında toplam {vector_store.index.ntotal} adet vektör (metin parçası) bulunmaktadır.\")\n",
        "\n",
        "except Exception as e:\n",
        "    print(\"🚨 HATA: Vektör veritabanı oluşturulurken bir sorun oluştu!\")\n",
        "    print(e)"
      ],
      "metadata": {
        "colab": {
          "base_uri": "https://localhost:8080/"
        },
        "id": "QK5mxd7n8q5A",
        "outputId": "63e0937a-97cf-481e-d26f-e0b9dda2e4ee"
      },
      "execution_count": 10,
      "outputs": [
        {
          "output_type": "stream",
          "name": "stdout",
          "text": [
            ">>> Adım 4 (Tam Sürüm): Vektör veritabanı oluşturuluyor...\n",
            "⚠️ UYARI: Toplam 144739 adet metin parçası işlenecek. Bu işlem çok uzun sürebilir!\n",
            "\n",
            "✅ Embedding modeli başarıyla yüklendi.\n",
            "Metin parçaları vektörlere dönüştürülüyor ve veritabanına ekleniyor...\n",
            "\n",
            "✅ Vektör veritabanı başarıyla oluşturuldu!\n",
            "Veritabanında toplam 144739 adet vektör (metin parçası) bulunmaktadır.\n"
          ]
        }
      ]
    },
    {
      "cell_type": "code",
      "source": [
        "# Bu hücre, RAG mimarisinin tüm parçalarını birleştirir ve\n",
        "# kullanıcının sorduğu bir soruya, vektör veritabanındaki bilgileri\n",
        "# kullanarak cevap üretir.\n",
        "\n",
        "print(\">>> Adım 5 (Düzeltilmiş Versiyon): RAG Zinciri oluşturuluyor...\")\n",
        "\n",
        "# Gerekli araçları LangChain ve Google kütüphanelerinden çağırıyoruz.\n",
        "from langchain_google_genai import ChatGoogleGenerativeAI\n",
        "from langchain.chains import create_retrieval_chain\n",
        "from langchain.chains.combine_documents import create_stuff_documents_chain\n",
        "from langchain_core.prompts import ChatPromptTemplate\n",
        "\n",
        "try:\n",
        "    # 1. BEYNİ (LLM) TANIMLAMA\n",
        "\n",
        "    # --- ANA DEĞİŞİKLİK BURADA ---\n",
        "    # Gemini modelini çağırırken, kimlik doğrulama hatasını önlemek için\n",
        "    # API anahtarımızı 'google_api_key' parametresi ile doğrudan belirtiyoruz.\n",
        "    llm = ChatGoogleGenerativeAI(model=\"gemini-2.0-flash\",\n",
        "                                 google_api_key=GOOGLE_API_KEY,\n",
        "                                 temperature=0.3)\n",
        "\n",
        "    # 2. HAFIZAYI (RETRIEVER) TANIMLAMA\n",
        "    retriever = vector_store.as_retriever()\n",
        "\n",
        "    # 3. BEYNE TALİMAT VERME (PROMPT ŞABLONU OLUŞTURMA)\n",
        "    prompt_template = \"\"\"\n",
        "    Sana verilen aşağıdaki bağlamı (context) kullanarak soruya cevap ver.\n",
        "    Cevabı, sadece bu bağlamdaki bilgilerden yola çıkarak oluştur.\n",
        "    Eğer bağlamda cevap yoksa, \"Bu konuda bilgim yok.\" de.\n",
        "\n",
        "    Bağlam (Context):\n",
        "    {context}\n",
        "\n",
        "    Soru: {input}\n",
        "\n",
        "    Cevap:\n",
        "    \"\"\"\n",
        "    prompt = ChatPromptTemplate.from_template(prompt_template)\n",
        "\n",
        "    # 4. ZİNCİRİ OLUŞTURMA\n",
        "    combine_docs_chain = create_stuff_documents_chain(llm, prompt)\n",
        "    retrieval_chain = create_retrieval_chain(retriever, combine_docs_chain)\n",
        "\n",
        "    print(\"\\n✅ RAG Zinciri başarıyla oluşturuldu!\")\n",
        "\n",
        "    # 5. İLK SORUMUZU SORMA\n",
        "    test_sorusu = \"türkiye nin başkenti neresi?\"\n",
        "    print(f\"\\n❓ Soru soruluyor: '{test_sorusu}'\")\n",
        "\n",
        "    response = retrieval_chain.invoke({\"input\": test_sorusu})\n",
        "\n",
        "    print(\"\\n🤖 Gelen Cevap:\")\n",
        "    print(response[\"answer\"])\n",
        "\n",
        "except Exception as e:\n",
        "    print(\"🚨 HATA: RAG zinciri çalıştırılırken bir sorun oluştu!\")\n",
        "    print(e)"
      ],
      "metadata": {
        "colab": {
          "base_uri": "https://localhost:8080/"
        },
        "id": "5A-QFa1w4-0X",
        "outputId": "945f5218-f5aa-46d1-8c5f-5de45f95e411"
      },
      "execution_count": 11,
      "outputs": [
        {
          "output_type": "stream",
          "name": "stdout",
          "text": [
            ">>> Adım 5 (Düzeltilmiş Versiyon): RAG Zinciri oluşturuluyor...\n",
            "\n",
            "✅ RAG Zinciri başarıyla oluşturuldu!\n",
            "\n",
            "❓ Soru soruluyor: 'türkiye nin başkenti neresi?'\n",
            "\n",
            "🤖 Gelen Cevap:\n",
            "Ankara, Türkiye'nin başkentidir.\n"
          ]
        }
      ]
    }
  ]
}